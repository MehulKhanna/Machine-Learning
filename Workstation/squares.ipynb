{
 "cells": [
  {
   "cell_type": "markdown",
   "metadata": {},
   "source": [
    "### Tools"
   ]
  },
  {
   "cell_type": "code",
   "execution_count": 25,
   "metadata": {},
   "outputs": [],
   "source": [
    "import numpy as np\n",
    "from copy import copy\n",
    "import matplotlib.pyplot as plt"
   ]
  },
  {
   "cell_type": "markdown",
   "metadata": {},
   "source": [
    "### Dataset"
   ]
  },
  {
   "cell_type": "code",
   "execution_count": 26,
   "metadata": {},
   "outputs": [
    {
     "data": {
      "image/png": "[encoded data removed]",
      "text/plain": [
       "<Figure size 432x288 with 1 Axes>"
      ]
     },
     "metadata": {
      "needs_background": "light"
     },
     "output_type": "display_data"
    }
   ],
   "source": [
    "x_train = np.array([1, 2, 3, 4, 5])\n",
    "y_train = np.array([1, 4, 9, 16, 25])\n",
    "\n",
    "plt.plot(x_train, y_train)\n",
    "plt.scatter(x_train, y_train, marker=\"o\")\n",
    "plt.title(\"Squares\")\n",
    "plt.show()"
   ]
  },
  {
   "cell_type": "code",
   "execution_count": 27,
   "metadata": {},
   "outputs": [
    {
     "data": {
      "image/png": "[encoded data removed]",
      "text/plain": [
       "<Figure size 432x288 with 1 Axes>"
      ]
     },
     "metadata": {
      "needs_background": "light"
     },
     "output_type": "display_data"
    }
   ],
   "source": [
    "m = x_train.shape[0]\n",
    "f_wb = np.zeros(m)\n",
    "\n",
    "for i in range(m):\n",
    "    f_wb[i] = (1*x_train[i])**2 + 0\n",
    "\n",
    "plt.plot(x_train, f_wb)\n",
    "plt.scatter(x_train, y_train)\n",
    "plt.show()"
   ]
  },
  {
   "cell_type": "markdown",
   "metadata": {},
   "source": [
    "### Gradient Descent\n"
   ]
  },
  {
   "cell_type": "code",
   "execution_count": 28,
   "metadata": {},
   "outputs": [],
   "source": [
    "def gradient_descent(x_train, y_train, w_init, b_init, iterations, alpha):\n",
    "    m = x_train.shape[0]\n",
    "    w, b = copy(w_init), copy(b_init)\n",
    "\n",
    "    for iteration in range(iterations):\n",
    "        j_wb = 0\n",
    "        dj_db, dj_dw = 0, 0\n",
    "\n",
    "        for i in range(m):\n",
    "            f_wb = (w * x_train[i])**2 + b\n",
    "            cost = f_wb - y_train[i]\n",
    "\n",
    "            dj_db += cost\n",
    "            dj_dw += cost * x_train[i]\n",
    "\n",
    "            j_wb += cost ** 2\n",
    "        \n",
    "        j_wb = (1 / 2 * m) * j_wb\n",
    "        dj_db = (1 / m) * dj_db\n",
    "        dj_dw = (1 / m) * dj_dw\n",
    "\n",
    "        b = b - (alpha * dj_db)\n",
    "        w = w - (alpha * dj_dw)\n",
    "    \n",
    "    return w, b"
   ]
  },
  {
   "cell_type": "code",
   "execution_count": 39,
   "metadata": {},
   "outputs": [
    {
     "name": "stdout",
     "output_type": "stream",
     "text": [
      "0.9999999999999999 2.663324301000558e-15\n"
     ]
    }
   ],
   "source": [
    "alpha = 0.01\n",
    "iterations = 1000000\n",
    "w_init, b_init = 0, 0\n",
    "\n",
    "w, b = gradient_descent(x_train, y_train, w_init, b_init, iterations, alpha)\n",
    "print(w, b)"
   ]
  },
  {
   "cell_type": "code",
   "execution_count": 55,
   "metadata": {},
   "outputs": [
    {
     "name": "stdout",
     "output_type": "stream",
     "text": [
      "-2.220446049250313e-16\n"
     ]
    },
    {
     "data": {
      "image/png": "[encoded data removed]",
      "text/plain": [
       "<Figure size 432x288 with 1 Axes>"
      ]
     },
     "metadata": {
      "needs_background": "light"
     },
     "output_type": "display_data"
    }
   ],
   "source": [
    "m = x_train.shape[0]\n",
    "f_wb = np.zeros(m)\n",
    "\n",
    "for i in range(m):\n",
    "    f_wb[i] = (w * x_train[i]) ** 2 + b\n",
    "\n",
    "loss = (1 / m) * np.sum(f_wb - y_train)\n",
    "print(loss)\n",
    "\n",
    "plt.scatter(x_train, y_train, marker=\"o\")\n",
    "plt.scatter(x_train, f_wb, marker=\"o\")\n",
    "plt.show()"
   ]
  },
  {
   "cell_type": "code",
   "execution_count": 54,
   "metadata": {},
   "outputs": [
    {
     "name": "stdout",
     "output_type": "stream",
     "text": [
      "35.99999999999999\n"
     ]
    }
   ],
   "source": [
    "predict = lambda x: (w * x) ** 2 + b\n",
    "print(predict(6))"
   ]
  }
 ],
 "metadata": {
  "kernelspec": {
   "display_name": "Python 3.10.4 64-bit",
   "language": "python",
   "name": "python3"
  },
  "language_info": {
   "codemirror_mode": {
    "name": "ipython",
    "version": 3
   },
   "file_extension": ".py",
   "mimetype": "text/x-python",
   "name": "python",
   "nbconvert_exporter": "python",
   "pygments_lexer": "ipython3",
   "version": "3.10.4"
  },
  "orig_nbformat": 4,
  "vscode": {
   "interpreter": {
    "hash": "916dbcbb3f70747c44a77c7bcd40155683ae19c65e1c03b4aa3499c5328201f1"
   }
  }
 },
 "nbformat": 4,
 "nbformat_minor": 2
}
